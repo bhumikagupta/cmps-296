{
 "cells": [
  {
   "cell_type": "code",
   "execution_count": 1,
   "metadata": {
    "collapsed": true
   },
   "outputs": [],
   "source": [
    "import pandas as pd\n",
    "import json"
   ]
  },
  {
   "cell_type": "code",
   "execution_count": null,
   "metadata": {
    "collapsed": true
   },
   "outputs": [],
   "source": [
    "#Read json files\n",
    "business_data=[]\n",
    "with open(\"/Users/avaniarora/Documents/ConversationalAgents/yelp_dataset_challenge_round9/yelp_academic_dataset_business.json\") as data_file:\n",
    "    for new_line in data_file:\n",
    "        business_data.append(json.loads(new_line))\n",
    "        \n",
    "review_data=[]\n",
    "with open(\"/Users/avaniarora/Documents/ConversationalAgents/yelp_dataset_challenge_round9/yelp_academic_dataset_review.json\") as data_file:\n",
    "    for new_line in data_file:\n",
    "        review_data.append(json.loads(new_line))\n",
    "\n"
   ]
  },
  {
   "cell_type": "code",
   "execution_count": null,
   "metadata": {
    "collapsed": true
   },
   "outputs": [],
   "source": []
  }
 ],
 "metadata": {
  "anaconda-cloud": {},
  "kernelspec": {
   "display_name": "Python [default]",
   "language": "python",
   "name": "python2"
  },
  "language_info": {
   "codemirror_mode": {
    "name": "ipython",
    "version": 2
   },
   "file_extension": ".py",
   "mimetype": "text/x-python",
   "name": "python",
   "nbconvert_exporter": "python",
   "pygments_lexer": "ipython2",
   "version": "2.7.12"
  }
 },
 "nbformat": 4,
 "nbformat_minor": 1
}
