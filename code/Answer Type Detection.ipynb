{
 "cells": [
  {
   "cell_type": "code",
   "execution_count": 1,
   "metadata": {
    "collapsed": true
   },
   "outputs": [],
   "source": [
    "import pandas as pd\n",
    "import json"
   ]
  },
  {
   "cell_type": "code",
   "execution_count": 2,
   "metadata": {
    "collapsed": false
   },
   "outputs": [],
   "source": [
    "#Read json files\n",
    "business_data=[]\n",
    "with open(\"C:/Users/sanja/Desktop/Sanjana/books/UCSC/CMPS 296/Project/Data/yelp_dataset_challenge_round9/yelp_academic_dataset_business.json\") as data_file:\n",
    "    for new_line in data_file:\n",
    "        business_data.append(json.loads(new_line))\n",
    "        \n",
    "review_data=[]\n",
    "with open(\"C:/Users/sanja/Desktop/Sanjana/books/UCSC/CMPS 296/Project/Data/yelp_dataset_challenge_round9/yelp_academic_dataset_review.json\") as data_file:\n",
    "    for new_line in data_file:\n",
    "        review_data.append(json.loads(new_line))\n",
    "\n"
   ]
  },
  {
   "cell_type": "code",
   "execution_count": null,
   "metadata": {
    "collapsed": true
   },
   "outputs": [],
   "source": [
    "LV_business_data=[]\n",
    "business_ids=[]\n",
    "for i in range(len(business_data)):\n",
    "    if 'NV' in business_data[i][u'state']:\n",
    "        if 'Las' in  business_data[i][u'city']:\n",
    "            LV_business_data.append(business_data[i])\n",
    "            business_ids.append(business_data[i][u'business_id'])\n",
    "\n",
    "print LV_business_data[0]\n",
    "\n",
    "LV_review_data=[]\n",
    "for i in range(len(review_data)):\n",
    "    if review_data[i][u'business_id'] in business_ids:\n",
    "        LV_review_data.append(review_data[i])\n",
    "        \n",
    "LV_review_data[0]   \n",
    "            "
   ]
  }
 ],
 "metadata": {
  "anaconda-cloud": {},
  "kernelspec": {
   "display_name": "Python 2",
   "language": "python",
   "name": "python2"
  },
  "language_info": {
   "codemirror_mode": {
    "name": "ipython",
    "version": 2
   },
   "file_extension": ".py",
   "mimetype": "text/x-python",
   "name": "python",
   "nbconvert_exporter": "python",
   "pygments_lexer": "ipython2",
   "version": "2.7.11"
  }
 },
 "nbformat": 4,
 "nbformat_minor": 1
}
